{
 "cells": [
  {
   "cell_type": "code",
   "execution_count": null,
   "metadata": {},
   "outputs": [],
   "source": [
    "import pandas as pd\n",
    "\n",
    "dados = pd.read_excell('file.xls')\n",
    "\n",
    "# Converter a coluna 'date' para o tipo datetime\n",
    "dados['date'] = pd.to_datetime(dados['date'])\n",
    "\n",
    "# Calcular a variação diária do número de casos por cidade\n",
    "dados['variação_diária'] = dados.groupby('city')['new_confirmed'].diff()\n",
    "\n",
    "# Filtrar os dados para remover as variações negativas (caso haja)\n",
    "dados = dados[dados['variação_diária'] >= 0]\n",
    "\n",
    "# Agrupar os dados por cidade e calcular a variação máxima\n",
    "variação_maxima_por_cidade = dados.groupby('city')['variação_diária'].max().reset_index()\n",
    "\n",
    "# Ordenar as cidades com base na variação máxima em ordem decrescente\n",
    "ranking_cidades = variação_maxima_por_cidade.sort_values(by='variação_diária', ascending=False)\n",
    "\n",
    "# Criar o DataFrame final com as três colunas requeridas\n",
    "ranking_final = ranking_cidades.head(10)  \n",
    "\n",
    "# Exibir o resultado\n",
    "print(ranking_final)"
   ]
  }
 ],
 "metadata": {
  "language_info": {
   "name": "python"
  }
 },
 "nbformat": 4,
 "nbformat_minor": 2
}
